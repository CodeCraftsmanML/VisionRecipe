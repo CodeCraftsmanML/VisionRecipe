{
 "cells": [
  {
   "cell_type": "markdown",
   "metadata": {},
   "source": [
    "## Flow of Project \n",
    "\n",
    "1. Introduction to GEN AI \n",
    "\n",
    "2. Foundation of Image Presentation \n",
    "\n",
    "3. Diffusion Model Basics \n",
    "\n",
    "4. Prompt Engineering for Images \n",
    "\n",
    "5. Project "
   ]
  }
 ],
 "metadata": {
  "language_info": {
   "name": "python"
  }
 },
 "nbformat": 4,
 "nbformat_minor": 2
}
