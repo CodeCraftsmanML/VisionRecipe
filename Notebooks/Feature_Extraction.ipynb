{
 "cells": [
  {
   "cell_type": "code",
   "execution_count": 26,
   "metadata": {},
   "outputs": [],
   "source": [
    "from PIL import Image\n",
    "from transformers import ViltFeatureExtractor, ViTForImageClassification\n",
    "import warnings\n",
    "\n",
    "warnings.filterwarnings(\"ignore\") "
   ]
  },
  {
   "cell_type": "code",
   "execution_count": 29,
   "metadata": {},
   "outputs": [],
   "source": [
    "# load the pretrained vision transformer model and feature extractor \n",
    "\n",
    "model_name = 'google/vit-base-patch16-224' \n",
    "# model_name = 'nateraw/automobile-ViT-base-patch16-224'\n",
    "feature_extractor = ViltFeatureExtractor.from_pretrained(model_name) \n",
    "model = ViTForImageClassification.from_pretrained(model_name) "
   ]
  },
  {
   "cell_type": "code",
   "execution_count": 32,
   "metadata": {},
   "outputs": [
    {
     "name": "stdout",
     "output_type": "stream",
     "text": [
      "item --> eggnog\n"
     ]
    }
   ],
   "source": [
    "from PIL import Image\n",
    "import torch\n",
    "\n",
    "# Image path\n",
    "img_path = 'S:\\\\Machine Learning\\\\Siddharthan Playlist\\\\GEN AI for Computer Vision\\\\data\\\\img_8.jpeg'\n",
    "\n",
    "# Load and preprocess the image\n",
    "image = Image.open(img_path).convert('RGB')\n",
    "\n",
    "# Resize the image to match the model's expected input size\n",
    "image = image.resize((224, 224))  # Resize to the expected dimensions (224x224 for ViT)\n",
    "\n",
    "# Preprocess the image\n",
    "inputs = feature_extractor(images=image, return_tensors='pt')\n",
    "\n",
    "# Perform inference\n",
    "if 'pixel_values' in inputs:\n",
    "    try:\n",
    "        outputs = model(pixel_values=inputs['pixel_values'])\n",
    "    except TypeError as e:\n",
    "        print(f\"Error during model inference: {e}\")\n",
    "else:\n",
    "    print(\"Error: 'pixel_values' not found in inputs\")\n",
    "    raise ValueError(\"The 'pixel_values' key is missing from the inputs.\")\n",
    "\n",
    "logits = outputs.logits\n",
    "predict_class_idx = logits.argmax(-1).item()\n",
    "predict_label = model.config.id2label[predict_class_idx]\n",
    "\n",
    "# Extract the name of the food item\n",
    "food_name = predict_label.split(',')[0]  # Fixed 'split' typo\n",
    "\n",
    "# Print the predicted food name\n",
    "print(f\"item --> {food_name}\")"
   ]
  },
  {
   "cell_type": "code",
   "execution_count": null,
   "metadata": {},
   "outputs": [],
   "source": []
  }
 ],
 "metadata": {
  "kernelspec": {
   "display_name": "Python 3",
   "language": "python",
   "name": "python3"
  },
  "language_info": {
   "codemirror_mode": {
    "name": "ipython",
    "version": 3
   },
   "file_extension": ".py",
   "mimetype": "text/x-python",
   "name": "python",
   "nbconvert_exporter": "python",
   "pygments_lexer": "ipython3",
   "version": "3.11.1"
  }
 },
 "nbformat": 4,
 "nbformat_minor": 2
}
