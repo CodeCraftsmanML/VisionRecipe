{
 "cells": [
  {
   "cell_type": "markdown",
   "metadata": {},
   "source": [
    "## Prompting In Computer Vision \n",
    "\n",
    "### 1. Introduction to Prompt Engineering \n",
    "\n",
    "Since we all know that models like ChatGPT requires a structured input (desciption) of what you want. you can use chain-of-thoughts method or zero-shot method to align your model with what you want. \n",
    "\n",
    "But, Vision Models are slight different because they are not trained on same data as Language Models. Image models are primarily trained on Captioned Images, so, model pay more attention on keywords rather than elaborated sentence. \n",
    "\n",
    "Image Prompting is essentially a combination of following elements : \n",
    "\n",
    "O Foreground : The Main subject of your image \n",
    "\n",
    "O Background : The background of your image \n",
    "\n",
    "O Desciptors : Terms that describe nature and style of your image : classical art, impression, loose brush strokes, and so on. \n",
    "\n",
    "### 2. Important Terminology related to Image Processing \n",
    "\n",
    "There are many ways to categorize keywords, but here are a few examples. \n",
    "\n",
    "O Style : Photograph, Digital illusion, 3D model, ...\n",
    "\n",
    "O Medium : oil, watercolor, pencil, ink, pastel, ...\n",
    "\n",
    "O Artists : Vah Gogh, Picasso, Monet, ... \n",
    "\n",
    "O Medium : Instagram, Pinterest, ArtStation, ...\n",
    "\n",
    "O Effect : High-resolution, Grainy, pixelated, ...\n",
    "\n",
    "O Color : Monochrome, sepia, vibrant, warm tones, cool tones, neutral tones, ...\n",
    "\n",
    "O Lighting : backlit, twilight, spotlight, ...\n",
    "\n",
    "O Camera : fish-eye, wideangle, pinhole, ...\n",
    "\n",
    "O Perspective : Bird's eye view, first person, cross section, ... \n",
    "\n",
    "O Artistic Movement : realism, surrealism, impression, romanticism, ...\n",
    "\n",
    "### 3. Prompting Using UI \n",
    "\n",
    ". https://chatgpt.com/?model=gpt-4o [closed sourse]\n",
    "\n",
    ". https://huggingface.co/spaces/stabilityai/stable-diffusion [HuggingFace]\n",
    "\n",
    ". https://playground.com/ [Free Tier]\n",
    "\n",
    ". https://dreamstudio.ai/account [Free Credit]\n",
    "\n",
    "### 4. Prompting Using Code\n",
    "\n",
    "colab link : https://colab.research.google.com/drive/13RHZHUAddawZGyrYeeyrDupzP5MKfcEk?usp=sharing"
   ]
  },
  {
   "cell_type": "code",
   "execution_count": null,
   "metadata": {},
   "outputs": [],
   "source": []
  }
 ],
 "metadata": {
  "language_info": {
   "name": "python"
  }
 },
 "nbformat": 4,
 "nbformat_minor": 2
}
